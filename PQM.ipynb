{
  "nbformat": 4,
  "nbformat_minor": 0,
  "metadata": {
    "colab": {
      "name": "PQM",
      "provenance": [],
      "collapsed_sections": []
    },
    "kernelspec": {
      "name": "python3",
      "display_name": "Python 3"
    }
  },
  "cells": [
    {
      "cell_type": "code",
      "metadata": {
        "id": "u8-V8xXlE-A1",
        "colab_type": "code",
        "colab": {
          "base_uri": "https://localhost:8080/",
          "height": 1000
        },
        "outputId": "32bb0ec9-c041-4a5f-81f7-1ea0d323c454"
      },
      "source": [
        "!pip install qiskit"
      ],
      "execution_count": 2,
      "outputs": [
        {
          "output_type": "stream",
          "text": [
            "Collecting qiskit\n",
            "  Downloading https://files.pythonhosted.org/packages/cd/f9/fe6c00e37822f1ea9415ebdd708e9d18a3db436586623a379fee8e65fdd9/qiskit-0.15.0.tar.gz\n",
            "Collecting qiskit-terra==0.12.0\n",
            "\u001b[?25l  Downloading https://files.pythonhosted.org/packages/30/6e/3aada46aa05013279b918002a6123d9cf5d4014d65cef90f7f5306969ccc/qiskit_terra-0.12.0-cp36-cp36m-manylinux2010_x86_64.whl (2.9MB)\n",
            "\u001b[K     |████████████████████████████████| 2.9MB 2.9MB/s \n",
            "\u001b[?25hCollecting qiskit-aer==0.4.0\n",
            "\u001b[?25l  Downloading https://files.pythonhosted.org/packages/7c/79/847813214c363cd8d5486abafc8dd370c5f17f27e0e6c2eeeeb7582d34f0/qiskit_aer-0.4.0-cp36-cp36m-manylinux2010_x86_64.whl (23.0MB)\n",
            "\u001b[K     |████████████████████████████████| 23.1MB 5.1MB/s \n",
            "\u001b[?25hCollecting qiskit-ibmq-provider==0.4.6\n",
            "\u001b[?25l  Downloading https://files.pythonhosted.org/packages/66/f3/2c3785df87873dab592808ca820b6494006ffae797f9a9105b91fa09d7a7/qiskit_ibmq_provider-0.4.6-py3-none-any.whl (100kB)\n",
            "\u001b[K     |████████████████████████████████| 102kB 10.5MB/s \n",
            "\u001b[?25hCollecting qiskit-ignis==0.2.0\n",
            "\u001b[?25l  Downloading https://files.pythonhosted.org/packages/78/f2/f4f89c65d2c13f473092f7e800519836611ddeeaab8d4591a70555b26a37/qiskit_ignis-0.2.0-py3-none-any.whl (100kB)\n",
            "\u001b[K     |████████████████████████████████| 102kB 10.9MB/s \n",
            "\u001b[?25hCollecting qiskit-aqua==0.6.4\n",
            "\u001b[?25l  Downloading https://files.pythonhosted.org/packages/f0/7f/5d66a7d2f90a95e5bf34717adeaaee6bc330ed2b38df240a37034f9749af/qiskit_aqua-0.6.4-py3-none-any.whl (1.8MB)\n",
            "\u001b[K     |████████████████████████████████| 1.8MB 38.6MB/s \n",
            "\u001b[?25hRequirement already satisfied: dill>=0.3 in /usr/local/lib/python3.6/dist-packages (from qiskit-terra==0.12.0->qiskit) (0.3.1.1)\n",
            "Requirement already satisfied: jsonschema>=2.6 in /usr/local/lib/python3.6/dist-packages (from qiskit-terra==0.12.0->qiskit) (2.6.0)\n",
            "Collecting ply>=3.10\n",
            "\u001b[?25l  Downloading https://files.pythonhosted.org/packages/a3/58/35da89ee790598a0700ea49b2a66594140f44dec458c07e8e3d4979137fc/ply-3.11-py2.py3-none-any.whl (49kB)\n",
            "\u001b[K     |████████████████████████████████| 51kB 6.6MB/s \n",
            "\u001b[?25hRequirement already satisfied: networkx>=2.2; python_version > \"3.5\" in /usr/local/lib/python3.6/dist-packages (from qiskit-terra==0.12.0->qiskit) (2.4)\n",
            "Requirement already satisfied: scipy>=1.0 in /usr/local/lib/python3.6/dist-packages (from qiskit-terra==0.12.0->qiskit) (1.4.1)\n",
            "Requirement already satisfied: psutil>=5 in /usr/local/lib/python3.6/dist-packages (from qiskit-terra==0.12.0->qiskit) (5.4.8)\n",
            "Requirement already satisfied: numpy>=1.13 in /usr/local/lib/python3.6/dist-packages (from qiskit-terra==0.12.0->qiskit) (1.17.5)\n",
            "Collecting marshmallow-polyfield<6,>=5.7\n",
            "  Downloading https://files.pythonhosted.org/packages/b5/9a/8c303051f9d0f844c06b8d607f7578a2ac9aec2ffe02947fea5d5ba589d8/marshmallow_polyfield-5.8-py3-none-any.whl\n",
            "Collecting marshmallow<4,>=3\n",
            "\u001b[?25l  Downloading https://files.pythonhosted.org/packages/0d/f5/8a5d36e0a0a7000bab80200f599868543b9c8259c75941446bde1bf6ed83/marshmallow-3.4.0-py2.py3-none-any.whl (45kB)\n",
            "\u001b[K     |████████████████████████████████| 51kB 6.9MB/s \n",
            "\u001b[?25hCollecting sympy>=1.3\n",
            "\u001b[?25l  Downloading https://files.pythonhosted.org/packages/ce/5b/acc12e3c0d0be685601fc2b2d20ed18dc0bf461380e763afc9d0a548deb0/sympy-1.5.1-py2.py3-none-any.whl (5.6MB)\n",
            "\u001b[K     |████████████████████████████████| 5.6MB 29.2MB/s \n",
            "\u001b[?25hRequirement already satisfied: cython>=0.27.1 in /usr/local/lib/python3.6/dist-packages (from qiskit-aer==0.4.0->qiskit) (0.29.15)\n",
            "Collecting pybind11>=2.4\n",
            "\u001b[?25l  Downloading https://files.pythonhosted.org/packages/4b/4d/ae1c4d8e8b139afa9682054dd42df3b0e3b5c1731287933021b9fd7e9cc4/pybind11-2.4.3-py2.py3-none-any.whl (150kB)\n",
            "\u001b[K     |████████████████████████████████| 153kB 41.0MB/s \n",
            "\u001b[?25hCollecting requests-ntlm>=1.1.0\n",
            "  Downloading https://files.pythonhosted.org/packages/03/4b/8b9a1afde8072c4d5710d9fa91433d504325821b038e00237dc8d6d833dc/requests_ntlm-1.1.0-py2.py3-none-any.whl\n",
            "Requirement already satisfied: requests>=2.19 in /usr/local/lib/python3.6/dist-packages (from qiskit-ibmq-provider==0.4.6->qiskit) (2.21.0)\n",
            "Collecting arrow>=0.15.5\n",
            "\u001b[?25l  Downloading https://files.pythonhosted.org/packages/92/fa/f84896dede5decf284e6922134bf03fd26c90870bbf8015f4e8ee2a07bcc/arrow-0.15.5-py2.py3-none-any.whl (46kB)\n",
            "\u001b[K     |████████████████████████████████| 51kB 6.9MB/s \n",
            "\u001b[?25hCollecting websockets<8,>=7\n",
            "\u001b[?25l  Downloading https://files.pythonhosted.org/packages/43/71/8bfa882b9c502c36e5c9ef6732969533670d2b039cbf95a82ced8f762b80/websockets-7.0-cp36-cp36m-manylinux1_x86_64.whl (63kB)\n",
            "\u001b[K     |████████████████████████████████| 71kB 9.5MB/s \n",
            "\u001b[?25hCollecting nest-asyncio!=1.1.0,>=1.0.0\n",
            "  Downloading https://files.pythonhosted.org/packages/ad/05/a511d3c77850879409ca8a5f73257da50b97c28e030a82cdf8b0d359dedf/nest_asyncio-1.2.3-py3-none-any.whl\n",
            "Requirement already satisfied: setuptools>=40.1.0 in /usr/local/lib/python3.6/dist-packages (from qiskit-ignis==0.2.0->qiskit) (45.1.0)\n",
            "Requirement already satisfied: cvxopt; python_version < \"3.8\" or sys_platform != \"win32\" in /usr/local/lib/python3.6/dist-packages (from qiskit-aqua==0.6.4->qiskit) (1.2.4)\n",
            "Collecting docplex\n",
            "\u001b[?25l  Downloading https://files.pythonhosted.org/packages/1c/06/de7833f2e70d51286611a2676f130f0978d2c16f65047cb965d0af579d08/docplex-2.12.182.tar.gz (565kB)\n",
            "\u001b[K     |████████████████████████████████| 573kB 42.3MB/s \n",
            "\u001b[?25hCollecting quandl\n",
            "  Downloading https://files.pythonhosted.org/packages/07/ab/8cd479fba8a9b197a43a0d55dd534b066fb8e5a0a04b5c0384cbc5d663aa/Quandl-3.5.0-py2.py3-none-any.whl\n",
            "Requirement already satisfied: scikit-learn>=0.20.0 in /usr/local/lib/python3.6/dist-packages (from qiskit-aqua==0.6.4->qiskit) (0.22.1)\n",
            "Collecting dlx\n",
            "  Downloading https://files.pythonhosted.org/packages/54/c0/b8fb5bb727e983b6f5251433ef941b48f38c65bb0bd6ec509e9185bcd406/dlx-1.0.4.tar.gz\n",
            "Collecting pyscf; sys_platform == \"linux\" or (python_version < \"3.8\" and sys_platform != \"win32\")\n",
            "\u001b[?25l  Downloading https://files.pythonhosted.org/packages/22/37/c9ed47f2b3f92a4f6955ab5454bf364cee6c05edb40e35b31b21b56d39f4/pyscf-1.7.0-cp36-cp36m-manylinux1_x86_64.whl (24.3MB)\n",
            "\u001b[K     |████████████████████████████████| 24.3MB 1.3MB/s \n",
            "\u001b[?25hRequirement already satisfied: fastdtw in /usr/local/lib/python3.6/dist-packages (from qiskit-aqua==0.6.4->qiskit) (0.3.4)\n",
            "Requirement already satisfied: h5py in /usr/local/lib/python3.6/dist-packages (from qiskit-aqua==0.6.4->qiskit) (2.8.0)\n",
            "Requirement already satisfied: decorator>=4.3.0 in /usr/local/lib/python3.6/dist-packages (from networkx>=2.2; python_version > \"3.5\"->qiskit-terra==0.12.0->qiskit) (4.4.1)\n",
            "Requirement already satisfied: mpmath>=0.19 in /usr/local/lib/python3.6/dist-packages (from sympy>=1.3->qiskit-terra==0.12.0->qiskit) (1.1.0)\n",
            "Collecting cryptography>=1.3\n",
            "\u001b[?25l  Downloading https://files.pythonhosted.org/packages/ca/9a/7cece52c46546e214e10811b36b2da52ce1ea7fa203203a629b8dfadad53/cryptography-2.8-cp34-abi3-manylinux2010_x86_64.whl (2.3MB)\n",
            "\u001b[K     |████████████████████████████████| 2.3MB 28.2MB/s \n",
            "\u001b[?25hCollecting ntlm-auth>=1.0.2\n",
            "  Downloading https://files.pythonhosted.org/packages/50/09/5e397eb18685b14fd8b209e26cdb4fa6451c82c1bcc651fef05fa73e7b27/ntlm_auth-1.4.0-py2.py3-none-any.whl\n",
            "Requirement already satisfied: idna<2.9,>=2.5 in /usr/local/lib/python3.6/dist-packages (from requests>=2.19->qiskit-ibmq-provider==0.4.6->qiskit) (2.8)\n",
            "Requirement already satisfied: certifi>=2017.4.17 in /usr/local/lib/python3.6/dist-packages (from requests>=2.19->qiskit-ibmq-provider==0.4.6->qiskit) (2019.11.28)\n",
            "Requirement already satisfied: urllib3<1.25,>=1.21.1 in /usr/local/lib/python3.6/dist-packages (from requests>=2.19->qiskit-ibmq-provider==0.4.6->qiskit) (1.24.3)\n",
            "Requirement already satisfied: chardet<3.1.0,>=3.0.2 in /usr/local/lib/python3.6/dist-packages (from requests>=2.19->qiskit-ibmq-provider==0.4.6->qiskit) (3.0.4)\n",
            "Requirement already satisfied: python-dateutil in /usr/local/lib/python3.6/dist-packages (from arrow>=0.15.5->qiskit-ibmq-provider==0.4.6->qiskit) (2.6.1)\n",
            "Requirement already satisfied: six in /usr/local/lib/python3.6/dist-packages (from docplex->qiskit-aqua==0.6.4->qiskit) (1.12.0)\n",
            "Collecting docloud>=1.0.375\n",
            "  Downloading https://files.pythonhosted.org/packages/89/1c/fcb7ea86ae5cb7137a22f00bcaa785de2d102bd4a2b16383ec4a877a835b/docloud-1.0.375.tar.gz\n",
            "Collecting inflection>=0.3.1\n",
            "  Downloading https://files.pythonhosted.org/packages/d5/35/a6eb45b4e2356fe688b21570864d4aa0d0a880ce387defe9c589112077f8/inflection-0.3.1.tar.gz\n",
            "Requirement already satisfied: pandas>=0.14 in /usr/local/lib/python3.6/dist-packages (from quandl->qiskit-aqua==0.6.4->qiskit) (0.25.3)\n",
            "Requirement already satisfied: more-itertools in /usr/local/lib/python3.6/dist-packages (from quandl->qiskit-aqua==0.6.4->qiskit) (8.2.0)\n",
            "Requirement already satisfied: joblib>=0.11 in /usr/local/lib/python3.6/dist-packages (from scikit-learn>=0.20.0->qiskit-aqua==0.6.4->qiskit) (0.14.1)\n",
            "Requirement already satisfied: cffi!=1.11.3,>=1.8 in /usr/local/lib/python3.6/dist-packages (from cryptography>=1.3->requests-ntlm>=1.1.0->qiskit-ibmq-provider==0.4.6->qiskit) (1.14.0)\n",
            "Requirement already satisfied: pytz>=2017.2 in /usr/local/lib/python3.6/dist-packages (from pandas>=0.14->quandl->qiskit-aqua==0.6.4->qiskit) (2018.9)\n",
            "Requirement already satisfied: pycparser in /usr/local/lib/python3.6/dist-packages (from cffi!=1.11.3,>=1.8->cryptography>=1.3->requests-ntlm>=1.1.0->qiskit-ibmq-provider==0.4.6->qiskit) (2.19)\n",
            "Building wheels for collected packages: qiskit, docplex, dlx, docloud, inflection\n",
            "  Building wheel for qiskit (setup.py) ... \u001b[?25l\u001b[?25hdone\n",
            "  Created wheel for qiskit: filename=qiskit-0.15.0-cp36-none-any.whl size=1401 sha256=6a4e7b0720efb06423d44bee22520179f40de54d7193910662cd8d830e300338\n",
            "  Stored in directory: /root/.cache/pip/wheels/9b/41/c1/95092efa209b6670db93dc74278211843218ce2dba35735365\n",
            "  Building wheel for docplex (setup.py) ... \u001b[?25l\u001b[?25hdone\n",
            "  Created wheel for docplex: filename=docplex-2.12.182-cp36-none-any.whl size=627978 sha256=5712bfec6d181e528c1207ea6d5ee3e70c34160f58f2274492abd09b3826397b\n",
            "  Stored in directory: /root/.cache/pip/wheels/9b/ef/71/204f676be3eae44c121c5b779077bd06f573d86cc6524aecc8\n",
            "  Building wheel for dlx (setup.py) ... \u001b[?25l\u001b[?25hdone\n",
            "  Created wheel for dlx: filename=dlx-1.0.4-cp36-none-any.whl size=5712 sha256=0902850ff8b49a3374ee197738567e4ed158efca2a67896e5974f84d2432a671\n",
            "  Stored in directory: /root/.cache/pip/wheels/bb/ba/15/fdd0deb104df3254912998150ba9245668db06b00af5912d1a\n",
            "  Building wheel for docloud (setup.py) ... \u001b[?25l\u001b[?25hdone\n",
            "  Created wheel for docloud: filename=docloud-1.0.375-cp36-none-any.whl size=19481 sha256=4fafefcf2df60c78b860c9ef7586a031f582fa3cc2fe17f94f9c99313ca4f4da\n",
            "  Stored in directory: /root/.cache/pip/wheels/4e/24/19/9b0e57545d7543ecec35c5faff78c058bf0c2506369c8b1d31\n",
            "  Building wheel for inflection (setup.py) ... \u001b[?25l\u001b[?25hdone\n",
            "  Created wheel for inflection: filename=inflection-0.3.1-cp36-none-any.whl size=6077 sha256=6138af66a895d830b78df2813562c33c7f71b4e5f9c6fd06b3798089543a04d5\n",
            "  Stored in directory: /root/.cache/pip/wheels/9f/5a/d3/6fc3bf6516d2a3eb7e18f9f28b472110b59325f3f258fe9211\n",
            "Successfully built qiskit docplex dlx docloud inflection\n",
            "Installing collected packages: ply, marshmallow, marshmallow-polyfield, sympy, qiskit-terra, pybind11, qiskit-aer, cryptography, ntlm-auth, requests-ntlm, arrow, websockets, nest-asyncio, qiskit-ibmq-provider, qiskit-ignis, docloud, docplex, inflection, quandl, dlx, pyscf, qiskit-aqua, qiskit\n",
            "  Found existing installation: sympy 1.1.1\n",
            "    Uninstalling sympy-1.1.1:\n",
            "      Successfully uninstalled sympy-1.1.1\n",
            "Successfully installed arrow-0.15.5 cryptography-2.8 dlx-1.0.4 docloud-1.0.375 docplex-2.12.182 inflection-0.3.1 marshmallow-3.4.0 marshmallow-polyfield-5.8 nest-asyncio-1.2.3 ntlm-auth-1.4.0 ply-3.11 pybind11-2.4.3 pyscf-1.7.0 qiskit-0.15.0 qiskit-aer-0.4.0 qiskit-aqua-0.6.4 qiskit-ibmq-provider-0.4.6 qiskit-ignis-0.2.0 qiskit-terra-0.12.0 quandl-3.5.0 requests-ntlm-1.1.0 sympy-1.5.1 websockets-7.0\n"
          ],
          "name": "stdout"
        }
      ]
    },
    {
      "cell_type": "markdown",
      "metadata": {
        "id": "P3ElvUhuIaNq",
        "colab_type": "text"
      },
      "source": [
        "## Probabilistic Quantum Memory\n",
        "\n",
        "\n",
        "A probabilistic quantum memory is a memory based on the quantum propertiers allowing an exponential storange capacity. It uses entanglement, where each pattern in memory is storaged in a uniform superposition. It was also an retrieval method able to recovery the exactly pattern with an high probability."
      ]
    },
    {
      "cell_type": "code",
      "metadata": {
        "id": "-WFsAr8AKtJg",
        "colab_type": "code",
        "colab": {}
      },
      "source": [
        "from qiskit import QuantumRegister, QuantumCircuit, Aer, execute, ClassicalRegister\n",
        "from qiskit.quantum_info.operators import Operator\n",
        "import math"
      ],
      "execution_count": 0,
      "outputs": []
    },
    {
      "cell_type": "markdown",
      "metadata": {
        "id": "Z1nEZbiXWUz_",
        "colab_type": "text"
      },
      "source": [
        "### Building a PQM\n",
        "\n",
        "To build a pqm we need to have a uniform superposition such that:\n",
        "\n",
        "$$|M\\rangle = \\frac{1}{\\sqrt{p}}\\sum_{i=1}^p|p^i\\rangle~~~~~~~~~~~~~~~~~~~~(1)$$\n",
        "\n",
        "This uniform superposition is obtained using three types of registers. The **pattern register** (p) where the pattern is immidiately, the **utility qubit** (u) which controls the entry of a new pattern in the memory and the **memory register** (m) itself. \n",
        "\n",
        "The register p of size *n* stores the pattern $p^i$. We also need a utility register u $|01\\rangle$, finally a register m of *n* qubits will hold the memory.\n",
        "\n",
        "$$|\\psi_0^1\\rangle = |p_1^1, \\dots p_n^1;01;0_1,\\dots, 0_n\\rangle~~~~~~~~(2)$$\n",
        "\n",
        "**PS: Quantum Circuits a reading from right to the left.**"
      ]
    },
    {
      "cell_type": "code",
      "metadata": {
        "id": "g5P2jhimLCQE",
        "colab_type": "code",
        "outputId": "6c9a7858-45a8-4f02-ecf3-6c599fd38e28",
        "colab": {
          "base_uri": "https://localhost:8080/",
          "height": 34
        }
      },
      "source": [
        "n = 2 #pattern size\n",
        "\n",
        "q_pattern = QuantumRegister(n, name='p') # pattern qubit\n",
        "q_utility = QuantumRegister(2, name='u') # utility qubit\n",
        "q_memory = QuantumRegister(n, name='m') # memory qubit\n",
        "\n",
        "memory_circ = QuantumCircuit(q_pattern, q_utility, q_memory) # Memory circuit\n",
        "\n",
        "data = [[0, 0], [1, 0]]\n",
        "r = len(data) # Number of patterns\n",
        "\n",
        "memory_circ.x(q_utility[1])"
      ],
      "execution_count": 84,
      "outputs": [
        {
          "output_type": "execute_result",
          "data": {
            "text/plain": [
              "<qiskit.circuit.instructionset.InstructionSet at 0x7f0531f642b0>"
            ]
          },
          "metadata": {
            "tags": []
          },
          "execution_count": 84
        }
      ]
    },
    {
      "cell_type": "markdown",
      "metadata": {
        "id": "yvqLW3yCLTSU",
        "colab_type": "text"
      },
      "source": [
        "\n",
        "\n",
        "\n",
        "Afterward we need to load the patterns in the quantum registers. Then, we use the following subrotine:\n",
        "\n",
        "$$|\\psi_1^i\\rangle = \\prod_{j = 1}^{n} 2XOR_{p_ju_2m_j}|\\psi_0^i\\rangle~~~~~~~~~~~~(3)$$ \n",
        "\n",
        "The 2XOR operator is simply a Toffoli gate where the pattern qubit and the second utility qubit are the control and the memory qubit is the target. Therefore, the XOR is simply a CNOT gate.\n",
        "\n",
        "$$|\\psi_2^i\\rangle = \\prod_{j = 1}^{n} NOT_{m_j} XOR_{p_jm_j}|\\psi_1^i\\rangle$$ \n",
        "\n",
        "$$|\\psi_3^i\\rangle = nXOR_{m_j\\dots m_n u_1}|\\psi_2^i\\rangle~~~~~~~~~~(4)$$ \n",
        "\n",
        "The first operation transforms the qubits of memory register one if they are equal to the pattern register. Both operation change the first utility qubit to $|1\\rangle$.\n",
        "\n",
        "The following operation is the crux moment of the algorithm it steps the amplitude of the register that will carry the values in the memory. That step is accomplished using the following operation:\n",
        "$$ CS_{u_1u_2}^{p+1-i}|\\psi_3^i\\rangle~~~~~~~~~~~~~~~~~~~~(5)$$ \n",
        "\n",
        "where the $S^k$ matrix is given by:\n",
        "\n",
        "$$\n",
        "S^k =\n",
        "\\Bigg(\\begin{matrix}\n",
        "\\sqrt{\\frac{k-1}{k}} & \\frac{1}{\\sqrt{k}} \\\\\n",
        "\\frac{-1}{\\sqrt{k}} & \\sqrt{\\frac{k-1}{k}}\n",
        "\\end{matrix}\\Bigg)\n",
        "$$"
      ]
    },
    {
      "cell_type": "code",
      "metadata": {
        "id": "E48B3xgSj_PS",
        "colab_type": "code",
        "colab": {}
      },
      "source": [
        "def csi(circuit, control, target, i):\n",
        "  cs = Operator([\n",
        "    [1, 0, 0, 0],\n",
        "    [0, 1, 0, 0],\n",
        "    [0, 0, math.sqrt((i-1)/i), 1/math.sqrt(i)],\n",
        "    [0, 0, -1/math.sqrt(i), math.sqrt((i-1)/i)]\n",
        "    ])\n",
        "  circuit.unitary(cs, [target, control], label='cs')"
      ],
      "execution_count": 0,
      "outputs": []
    },
    {
      "cell_type": "code",
      "metadata": {
        "id": "FCgUMXyZOoXF",
        "colab_type": "code",
        "outputId": "5dc8c18e-7176-4101-d228-42481a2ba548",
        "colab": {
          "base_uri": "https://localhost:8080/",
          "height": 694
        }
      },
      "source": [
        "\n",
        "for  i, patterns in enumerate(data, start=1):\n",
        "\n",
        "  index_one = [b for b, bit in enumerate(patterns) if bit is 1]\n",
        "  for b in index_one: # Loading pattern in quantum register\n",
        "    memory_circ.x(q_pattern[b])\n",
        "\n",
        "  for p, m in zip(q_pattern, q_memory): \n",
        "    # Coping the the pattern from the pattern register to \n",
        "    memory_circ.ccx(p, q_utility[1], m) # the memory register using the utility qubit to control i\n",
        "\n",
        "  for p, m in zip(q_pattern, q_memory):\n",
        "    memory_circ.cx(p, m)\n",
        "    memory_circ.x(m)\n",
        "\n",
        "  memory_circ.mct(q_memory, q_utility[0], None, mode=\"noancilla\")\n",
        "  \n",
        "  csi(memory_circ, q_utility[0], q_utility[1], r+1-i)\n",
        "  \n",
        "  memory_circ.mct(q_memory, q_utility[0], None, mode=\"noancilla\")\n",
        "  \n",
        "  for p, m in zip(q_pattern, q_memory):\n",
        "    memory_circ.cx(p, m)\n",
        "    memory_circ.x(m)\n",
        "  \n",
        "  for p, m in zip(q_pattern, q_memory):\n",
        "    memory_circ.ccx(p, q_utility[1], m)\n",
        "  \n",
        "  for b in index_one: # unloading pattern in quantum register\n",
        "    memory_circ.x(q_pattern[b])\n",
        "  print(i)\n",
        "  \n",
        "memory_circ.draw(output='mpl')   "
      ],
      "execution_count": 86,
      "outputs": [
        {
          "output_type": "stream",
          "text": [
            "1\n",
            "2\n"
          ],
          "name": "stdout"
        },
        {
          "output_type": "execute_result",
          "data": {
            "image/png": "[encoded data removed]",
            "text/plain": [
              "<Figure size 1683.19x806.68 with 1 Axes>"
            ]
          },
          "metadata": {
            "tags": []
          },
          "execution_count": 86
        }
      ]
    },
    {
      "cell_type": "markdown",
      "metadata": {
        "id": "DNHRgJQWD_Zv",
        "colab_type": "text"
      },
      "source": [
        "## Retrieving Information\n",
        "\n",
        "\n",
        "The process of retrieving information also requires three registers, the register $|i\\rangle$, the memory $|m\\rangle$ and finally a control register $|c\\rangle$ in the state $\\bigg(\\frac{|0\\rangle + |1\\rangle}{\\sqrt{2}}\\bigg)$. This form, the initial state consists of:\n",
        "\n",
        "$$|\\psi_0\\rangle = \n",
        "\\frac{1}{\\sqrt{2p}}\\sum_{k=1}^{p}|i_1,\\dots i_n;p_1^k,\\dots,p_n^k;0\\rangle +\n",
        "\\frac{1}{\\sqrt{2p}}\\sum_{k=1}^{p}|i_1,\\dots i_n;p_1^k,\\dots,p_n^k;1\\rangle\n",
        "$$"
      ]
    },
    {
      "cell_type": "code",
      "metadata": {
        "id": "dAexkpMkDve2",
        "colab_type": "code",
        "outputId": "afe7765f-9670-4330-f55c-8cc994534e4d",
        "colab": {
          "base_uri": "https://localhost:8080/",
          "height": 34
        }
      },
      "source": [
        "# Here we use one of the utility qubits as the register c and\n",
        "q_control = q_utility[0]\n",
        "memory_circ.h(q_control)"
      ],
      "execution_count": 87,
      "outputs": [
        {
          "output_type": "execute_result",
          "data": {
            "text/plain": [
              "<qiskit.circuit.instructionset.InstructionSet at 0x7f05328f9518>"
            ]
          },
          "metadata": {
            "tags": []
          },
          "execution_count": 87
        }
      ]
    },
    {
      "cell_type": "code",
      "metadata": {
        "id": "X1gsM4yAT9Ys",
        "colab_type": "code",
        "colab": {
          "base_uri": "https://localhost:8080/",
          "height": 34
        },
        "outputId": "fa0bc783-4a98-48a7-9dad-f2c659a1cc2d"
      },
      "source": [
        " #we use the pattern register as input register\n",
        " q_input = q_pattern\n",
        " # We want to recover the pattern 01 in this example\n",
        " memory_circ.x(q_input[1])"
      ],
      "execution_count": 88,
      "outputs": [
        {
          "output_type": "execute_result",
          "data": {
            "text/plain": [
              "<qiskit.circuit.instructionset.InstructionSet at 0x7f0531ca9630>"
            ]
          },
          "metadata": {
            "tags": []
          },
          "execution_count": 88
        }
      ]
    },
    {
      "cell_type": "markdown",
      "metadata": {
        "id": "ix2LRQD0Ik1I",
        "colab_type": "text"
      },
      "source": [
        "## Now we apply the following combination:\n",
        "\n",
        "$$|\\psi_1\\rangle = \\prod_{k=1}^{n}NOT_{m_k}XOR_{i_km_K}|\\psi_0\\rangle~~~~~~~~~~~~6$$\n",
        "\n",
        "It will result in the following state:\n",
        "\n",
        "$$\\frac{1}{\\sqrt{2p}}\\sum_{k=1}^{p}|i_1,\\dots i_n;d_1^k,\\dots,d_n^k;0\\rangle +\n",
        "\\frac{1}{\\sqrt{2p}}\\sum_{k=1}^{p}|i_1,\\dots i_n;d_1^k,\\dots,d_n^k;1\\rangle$$\n",
        "\n",
        "Now, $d_j^k = 1$ \"if and only if both $i_j = m_j$ and 0 otherwise\". "
      ]
    },
    {
      "cell_type": "code",
      "metadata": {
        "id": "SKLb9CmkLkhr",
        "colab_type": "code",
        "colab": {}
      },
      "source": [
        "for i, m in zip(q_input, q_memory):\n",
        "  memory_circ.cx(i, m)\n",
        "  memory_circ.x(m)"
      ],
      "execution_count": 0,
      "outputs": []
    },
    {
      "cell_type": "markdown",
      "metadata": {
        "id": "39GBjxV1Mcu3",
        "colab_type": "text"
      },
      "source": [
        "Considering the operator $\\mathcal{H}$ as follow:\n",
        "\n",
        "$$\\mathcal{H} = (d_H)_m\\otimes(\\sigma_3)_c$$,\n",
        "\n",
        "$$dH_m = \\sum_{k=1}^{n}\\bigg(\\frac{\\sigma_3 + 1}{2}\\bigg)_{m_k}$$\n",
        "\n",
        "The operator $\\sigma_3$ is known as the third Pauli matrix.\n",
        "\n",
        "\n",
        "Now the $|\\psi_2\\rangle$ is given by:\n",
        "\n",
        "\n",
        "$$|\\psi_2\\rangle = e^{i\\frac{\\pi}{2n}\\mathcal{H}}|\\psi_1\\rangle$$\n",
        "\n",
        "$$|\\psi_2\\rangle = \\frac{1}{\\sqrt{2p}}\\sum_{k=1}^{p}e^{i\\frac{\\pi}{2n}d_H(i, p^k)}|i_1,\\dots i_n;d_1^k,\\dots,d_n^k;0\\rangle $$\n",
        "\n",
        "$$+ \\frac{1}{\\sqrt{2p}}\\sum_{k=1}^{p}e^{-i\\frac{\\pi}{2n}d_H(i, p^k)}|i_1,\\dots i_n;d_1^k,\\dots,d_n^k;1\\rangle$$\n",
        "\n",
        "The $d_H(i, p^k)$ terms is simply the distance between the parttern $p^k$ in the memory and the input $i$.\n",
        "\n",
        "It calculates the hamming distance bewteen the input and stored pattern in store it in the amplitude of the qubits registers.\n"
      ]
    },
    {
      "cell_type": "markdown",
      "metadata": {
        "id": "ueAxIFdCUS_t",
        "colab_type": "text"
      },
      "source": [
        "This operation is accomplished using the following $U$ operator (or $\\exp(i\\pi\\mathcal{H}/2n$)):\n",
        "\n",
        "$$\n",
        "U =\n",
        "\\bigg(\n",
        "\\begin{matrix}\n",
        "e^{i\\frac{\\pi}{2n}} & 0 \\\\\n",
        "0 & 1 \\\\\n",
        "\\end{matrix}\n",
        "\\bigg)\n",
        "$$\n"
      ]
    },
    {
      "cell_type": "markdown",
      "metadata": {
        "id": "AvPmJ7MvPICU",
        "colab_type": "text"
      },
      "source": [
        "Then, the whole operation is descriebed as:\n",
        "$$|\\psi_2\\rangle = e^{i\\frac{\\pi}{2n}\\mathcal{H}}|\\psi_1\\rangle$$\n",
        "$$e^{i\\frac{\\pi}{2n}\\mathcal{H}}|\\psi_1\\rangle = \\prod_{i=1}^{n}(CU^{-2})_{cm_j}\n",
        "\\prod_{j=1}^{n}U_{mj}|\\psi_1\\rangle$$\n"
      ]
    },
    {
      "cell_type": "code",
      "metadata": {
        "id": "0yxTg-_rUSZb",
        "colab_type": "code",
        "colab": {}
      },
      "source": [
        "for m in q_memory:\n",
        "  memory_circ.u1(math.pi/(2*n), m)\n",
        "\n",
        "for m in q_memory:\n",
        "  memory_circ.cu1(-math.pi/n, q_control, m)"
      ],
      "execution_count": 0,
      "outputs": []
    },
    {
      "cell_type": "markdown",
      "metadata": {
        "id": "4GPUhab-Yhd-",
        "colab_type": "text"
      },
      "source": [
        "Finally, we apply these operation.\n",
        "\n",
        "$$|\\psi_3\\rangle = H_c\\prod_{k=n}^{1}XOR_{i_km_k}NOT_{mk}|\\psi_2\\rangle$$\n",
        "\n",
        "\n",
        " At the end we will have the state:\n",
        "\n",
        " $$|\\psi_3\\rangle =\\frac{1}{\\sqrt{2p}}\\sum_{k=1}^{p}cos\\frac{\\pi}{2n}d_H(i,p^k)|i_1,\\dots i_n;d_1^k,\\dots,d_n^k;0\\rangle$$ \n",
        "$$+\\frac{1}{\\sqrt{2p}}\\sum_{k=1}^{p}sin\\frac{\\pi}{2n}d_H(i,p^k)|i_1,\\dots i_n;d_1^k,\\dots,d_n^k;1\\rangle$$"
      ]
    },
    {
      "cell_type": "code",
      "metadata": {
        "id": "o7-hwqURYgzH",
        "colab_type": "code",
        "outputId": "e0dd97cc-f875-4048-f763-1ca05accadbb",
        "colab": {
          "base_uri": "https://localhost:8080/",
          "height": 34
        }
      },
      "source": [
        "for i in range(1, n+1):\n",
        "  memory_circ.x(q_memory[n-i])\n",
        "  memory_circ.cx(q_input[n-i], q_memory[n-i])\n",
        "  \n",
        "memory_circ.h(q_control)"
      ],
      "execution_count": 91,
      "outputs": [
        {
          "output_type": "execute_result",
          "data": {
            "text/plain": [
              "<qiskit.circuit.instructionset.InstructionSet at 0x7f0531cd6e80>"
            ]
          },
          "metadata": {
            "tags": []
          },
          "execution_count": 91
        }
      ]
    },
    {
      "cell_type": "code",
      "metadata": {
        "colab_type": "code",
        "outputId": "82a7e051-9419-4e60-acb7-a07136c19604",
        "id": "U87ArkKuHl-j",
        "colab": {
          "base_uri": "https://localhost:8080/",
          "height": 34
        }
      },
      "source": [
        "clbits = ClassicalRegister(1)\n",
        "memory_circ.add_register(clbits)\n",
        "memory_circ.measure(q_control, clbits)\n",
        "\n",
        "   \n",
        "backend = Aer.get_backend('qasm_simulator')\n",
        "job_sim = execute(experiments=memory_circ, backend=backend, shots=1024)\n",
        "\n",
        "result = job_sim.result()\n",
        "count = result.get_counts(memory_circ)\n",
        "\n",
        "print(count)"
      ],
      "execution_count": 92,
      "outputs": [
        {
          "output_type": "stream",
          "text": [
            "{'0': 759, '1': 265}\n"
          ],
          "name": "stdout"
        }
      ]
    },
    {
      "cell_type": "markdown",
      "metadata": {
        "id": "o7YcgByybGnt",
        "colab_type": "text"
      },
      "source": [
        "## Refereces\n",
        "\n",
        "Probabilistic Quantum Memory:https://arxiv.org/pdf/quant-ph/0012100.pdf"
      ]
    }
  ]
}